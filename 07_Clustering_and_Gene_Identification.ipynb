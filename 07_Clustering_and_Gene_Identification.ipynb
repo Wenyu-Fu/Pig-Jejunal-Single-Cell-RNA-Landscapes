{
 "cells": [
  {
   "cell_type": "markdown",
   "metadata": {},
   "source": [
    "## Clustering and Gene Identification"
   ]
  },
  {
   "cell_type": "markdown",
   "metadata": {},
   "source": [
    "### Clustering"
   ]
  },
  {
   "cell_type": "code",
   "execution_count": null,
   "metadata": {},
   "outputs": [],
   "source": [
    "library(Seurat)\n",
    "library(sceasy)\n",
    "library(reticulate)\n",
    "library(Mfuzz)"
   ]
  },
  {
   "cell_type": "code",
   "execution_count": null,
   "metadata": {},
   "outputs": [],
   "source": [
    "obj=readRDS('CellType.rds')  \n",
    "\n",
    "\n",
    "data_path <- \"mfuzz/average_expression_by_batch_and_gene.csv\"\n",
    "expression_data <- read.csv(data_path, row.names = 1, check.names = FALSE)\n",
    "gene_expr_matrix <- as.matrix(expression_data)\n",
    "eset <- new(\"ExpressionSet\",exprs = gene_expr_matrix)\n",
    "\n",
    "eset <- filter.NA(eset, thres = 0.25)\n",
    "eset <- fill.NA(eset,mode=\"knn\")\n",
    "\n",
    "eset <- standardise(eset)\n",
    "eset <- fill.NA(eset,mode=\"knn\")\n",
    "\n",
    "c <- 9 #fuzzy c-means\n",
    "m <- mestimate(eset) \n",
    "set.seed(1234)\n",
    "cl <- mfuzz(eset, c = c, m = m) \n",
    "\n",
    "library(RColorBrewer)\n",
    "Color <- colorRampPalette(rev(c(\"#ff0000\", \"Yellow\", \"OliveDrab1\")))(1000)\n",
    "mfuzz.plot(eset,cl,mfrow=c(3,3),new.window= FALSE,\n",
    "           time.labels=colnames(gene_expr_matrix),colo = Color)\n",
    "for (i in 1:max(cl)) {\n",
    "  mfuzz.plot2(eset, cl, mfrow = c(3, 3), time.labels = colnames(gene_expr_matrix),\n",
    "              ylim.set = c(0, 0), xlab = \"species\", ylab = \"\",\n",
    "              x11 = FALSE, ax.col = \"black\", bg = \"white\", colo = Color,\n",
    "              col.axis = \"black\", col.lab = \"black\", col.main = \"black\", col.sub = \"black\", col = \"black\",\n",
    "              centre = FALSE, centre.col = \"black\", centre.lwd = 2,\n",
    "              cex.main = 2, cex.lab = 2, cex.axis = 1.5,\n",
    "              Xwidth = 5, Xheight = 5, which.cluster = i)\n",
    "}\n",
    "\n",
    "cluster_data <- data.frame(Gene = names(cl[[\"cluster\"]]), Cluster = as.character(cl[[\"cluster\"]]))\n",
    "\n",
    "\n",
    "write.csv(cluster_data, file = \"gene_cluster_result.csv\", row.names = FALSE)"
   ]
  },
  {
   "cell_type": "markdown",
   "metadata": {},
   "source": [
    "### Gene Identification"
   ]
  },
  {
   "cell_type": "markdown",
   "metadata": {},
   "source": [
    "#### step1 DEGs: python code"
   ]
  },
  {
   "cell_type": "code",
   "execution_count": null,
   "metadata": {},
   "outputs": [],
   "source": [
    "adata=sc.read_h5ad('CellType.h5ad')"
   ]
  },
  {
   "cell_type": "code",
   "execution_count": null,
   "metadata": {},
   "outputs": [],
   "source": [
    "filename = \"JHvsDU\"\n",
    "sc.tl.rank_genes_groups(adata, groupby='BATCH', groups=['JH_JE'], reference='DUR_JE', method='wilcoxon', corr_method='benjamini-hochberg', key_added=filename)\n",
    "result = adata.uns[filename]\n",
    "groups = result['names'].dtype.names\n",
    "marker=pd.DataFrame(\n",
    "    {group + '_' + key: result[key][group]\n",
    "    for group in groups for key in ['names', 'scores', 'pvals_adj', 'logfoldchanges']})\n",
    "marker.columns = ['gene', 'scores', 'Padj', 'log2FC']\n",
    "marker.to_csv(filename+'.csv')"
   ]
  },
  {
   "cell_type": "code",
   "execution_count": null,
   "metadata": {},
   "outputs": [],
   "source": [
    "filename = \"JHvsAWB\"\n",
    "sc.tl.rank_genes_groups(adata, groupby='BATCH', groups=['JH_JE'], reference='SS_JE', method='wilcoxon', corr_method='benjamini-hochberg', key_added=filename)\n",
    "result = adata.uns[filename]\n",
    "groups = result['names'].dtype.names\n",
    "marker=pd.DataFrame(\n",
    "    {group + '_' + key: result[key][group]\n",
    "    for group in groups for key in ['names', 'scores', 'pvals_adj', 'logfoldchanges']})\n",
    "marker.columns = ['gene', 'scores', 'Padj', 'log2FC']\n",
    "marker.to_csv(filename+'.csv')"
   ]
  },
  {
   "cell_type": "code",
   "execution_count": null,
   "metadata": {},
   "outputs": [],
   "source": [
    "adata.obs['CellType'].unique() "
   ]
  },
  {
   "cell_type": "code",
   "execution_count": null,
   "metadata": {},
   "outputs": [],
   "source": [
    "newdata = adata[adata.obs['CellType'].isin(['Plasma'])]"
   ]
  },
  {
   "cell_type": "code",
   "execution_count": null,
   "metadata": {},
   "outputs": [],
   "source": [
    "filename = \"JHvsDU_Plasma\"\n",
    "sc.tl.rank_genes_groups(newdata, groupby='BATCH', groups=['JH_JE'], reference='DUR_JE', method='wilcoxon', corr_method='benjamini-hochberg', key_added=filename)\n",
    "result = newdata.uns[filename]\n",
    "groups = result['names'].dtype.names\n",
    "marker=pd.DataFrame(\n",
    "    {group + '_' + key: result[key][group]\n",
    "    for group in groups for key in ['names', 'scores', 'pvals_adj', 'logfoldchanges']})\n",
    "marker.columns = ['gene', 'scores', 'Padj', 'log2FC']\n",
    "marker.to_csv(filename+'.csv')"
   ]
  },
  {
   "cell_type": "code",
   "execution_count": null,
   "metadata": {},
   "outputs": [],
   "source": [
    "filename = \"JHvsAWB_Plasma\"\n",
    "sc.tl.rank_genes_groups(newdata, groupby='BATCH', groups=['JH_JE'], reference='SS_JE', method='wilcoxon', corr_method='benjamini-hochberg', key_added=filename)\n",
    "result = newdata.uns[filename]\n",
    "groups = result['names'].dtype.names\n",
    "marker=pd.DataFrame(\n",
    "    {group + '_' + key: result[key][group]\n",
    "    for group in groups for key in ['names', 'scores', 'pvals_adj', 'logfoldchanges']})\n",
    "marker.columns = ['gene', 'scores', 'Padj', 'log2FC']\n",
    "marker.to_csv(filename+'.csv')"
   ]
  },
  {
   "cell_type": "markdown",
   "metadata": {},
   "source": [
    "#### step2 Intersect gene: R code"
   ]
  },
  {
   "cell_type": "code",
   "execution_count": null,
   "metadata": {},
   "outputs": [],
   "source": [
    "library(ggplot2)\n",
    "library(ggforce)\n",
    "library(dplyr)\n",
    "library(plyr)"
   ]
  },
  {
   "cell_type": "code",
   "execution_count": null,
   "metadata": {},
   "outputs": [],
   "source": [
    "data1 <- read.csv(\"/disk213/xieqq/Fuwy_re/je/immune/diffirent gene/JHvsAWB_CD4 αβ T cells.csv\",row.names=1)\n",
    "data1 <- data1[order(-data1$log2FC), ]\n",
    "data1$Type <- \"none\"\n",
    "data1[which(data1$Padj<0.05 & data1$log2FC>1.5),\"Type\"] <- \"up\"\n",
    "data1[which(data1$Padj<0.05 & data1$log2FC<(-1.5)),\"Type\"] <- \"down\"\n",
    "data1$group <- \"JHvsDU\"\n",
    "\n",
    "data2 <- read.csv(\"JHvsDU_CD4 αβ T cells.csv\",row.names=1)\n",
    "data2 <- data2[order(-data2$log2FC), ]\n",
    "data2$Type <- \"none\"\n",
    "data2[which(data2$Padj<0.05 & data2$log2FC>1.5),\"Type\"] <- \"down\"\n",
    "data2[which(data2$Padj<0.05 & data2$log2FC<(-1.5)),\"Type\"] <- \"up\"\n",
    "data2$group <- \"JHvsAWB\""
   ]
  },
  {
   "cell_type": "code",
   "execution_count": null,
   "metadata": {},
   "outputs": [],
   "source": [
    "type1 <- data.frame(gene=intersect(data1[which(data1$Type==\"up\"),]$gene,data2[which(data2$Type==\"up\"),]$gene),Type=\"type1\")\n",
    "type2 <- data.frame(gene=intersect(data1[which(data1$Type==\"up\"),]$gene,data2[which(data2$Type==\"down\"),]$gene),Type=\"type2\")\n",
    "type3 <- data.frame(gene=intersect(data1[which(data1$Type==\"down\"),]$gene,data2[which(data2$Type==\"up\"),]$gene),Type=\"type3\")\n",
    "type4 <- data.frame(gene=intersect(data1[which(data1$Type==\"down\"),]$gene,data2[which(data2$Type==\"down\"),]$gene),Type=\"type4\")\n",
    "out <- rbind(rbind(type1,type2),rbind(type3,type4))"
   ]
  },
  {
   "cell_type": "code",
   "execution_count": null,
   "metadata": {},
   "outputs": [],
   "source": [
    "cluster <- read.csv(\"gene_cluster_result.csv\")\n",
    "out_immune <- left_join(out,cluster,by=c(\"gene\"=\"Gene\"))\n",
    "write.csv(out_immune,\"Intersect_Immune.csv\",row.names=F)\n",
    "\n",
    "cluster <- read.csv(\"plasma_gene_cluster_result.csv\")\n",
    "out_plasma <- left_join(out,cluster,by=c(\"gene\"=\"Gene\"))\n",
    "write.csv(out_plasma,\"Intersect_Plasma.csv\",row.names=F)\n",
    "\n",
    "cluster <- read.csv(\"CD4_gene_cluster_result.csv\")\n",
    "out_CD4 <- left_join(out,cluster,by=c(\"gene\"=\"Gene\"))\n",
    "write.csv(out_CD4,\"Intersect_CD4.csv\",row.names=F)\n",
    "\n",
    "cluster <- read.csv(\"CD8_gene_cluster_result.csv\")\n",
    "out_CD8 <- left_join(out,cluster,by=c(\"gene\"=\"Gene\"))\n",
    "write.csv(out_CD8,\"Intersect_CD8.csv\",row.names=F)"
   ]
  },
  {
   "cell_type": "code",
   "execution_count": null,
   "metadata": {},
   "outputs": [],
   "source": [
    "out <- read.csv(\"Intersect_Immune.csv\",check.names=F)"
   ]
  },
  {
   "cell_type": "code",
   "execution_count": null,
   "metadata": {},
   "outputs": [],
   "source": [
    "result <- out %>% group_by(Type) %>% summarise(count=n()) \n",
    "ppie <- ggplot()+\n",
    "  geom_arc_bar(data=result,stat=\"pie\",aes(x0=0,y0=0,r0=1,r=2,amount=count,fill=Type))+\n",
    "  xlab(\"\")+ylab('')+\n",
    "  scale_fill_manual(values=c('type1'='#02CECB','type2'='#FCF300','type3'='#1E96FC','type4'='#E12C2C'))+\n",
    "  theme_bw()+\n",
    "  theme(axis.ticks=element_blank(), \n",
    "        axis.text.y=element_blank(),\n",
    "        axis.text.x=element_blank(),\n",
    "        legend.position=\"none\",\n",
    "        panel.border=element_blank(),\n",
    "        panel.background=element_blank(),\n",
    "        panel.grid.major = element_blank(),\n",
    "        panel.grid.minor = element_blank())\n",
    "ppie\n",
    "ggsave(filename=\"./figures/Pie_CD8.pdf\", plot=ppie, width=4, height=4)"
   ]
  },
  {
   "cell_type": "code",
   "execution_count": null,
   "metadata": {},
   "outputs": [],
   "source": [
    "result <- out %>% group_by(Type,Cluster) %>% summarise(count=n(), .groups=\"drop\")\n",
    "result <- ddply(result, \"Type\", transform, percent_weight=count/sum(count)*100)\n",
    "pbar <- ggplot(result, aes(x=Type, y=percent_weight, fill=Cluster)) +\n",
    "  geom_bar(stat=\"identity\",width=0.5)+\n",
    "  scale_fill_gradient(low = \"#FCF300\", high = \"#1E96FC\")+\n",
    "  xlab(\"\")+ylab('')+\n",
    "  theme_bw()+\n",
    "  theme(axis.text.x=element_text(color=\"black\", size=10),\n",
    "        axis.text.y=element_text(color=\"black\", size=10),\n",
    "        axis.title.x=element_text(color=\"black\",size=12),\n",
    "        axis.title.y=element_text(color=\"black\",size=12),\n",
    "        legend.text=element_text(color=\"black\",size=10),\n",
    "        legend.title=element_text(color=\"black\",size=12),\n",
    "        panel.grid.major = element_blank(),\n",
    "        panel.grid.minor = element_blank())\n",
    "pbar\n",
    "ggsave(filename=\"./figures/Bar_CD8.pdf\", plot=pbar, width=4, height=4)"
   ]
  },
  {
   "cell_type": "markdown",
   "metadata": {},
   "source": [
    "#### step3 dotplot: python code"
   ]
  },
  {
   "cell_type": "code",
   "execution_count": null,
   "metadata": {},
   "outputs": [],
   "source": [
    "os.chdir(\"Intersect\")"
   ]
  },
  {
   "cell_type": "code",
   "execution_count": null,
   "metadata": {},
   "outputs": [],
   "source": [
    "gene_dict={'type1':[\"ATP8\",\"ISG12(A)\",\"ENSSSCG00000024914\",\"SAMD12\",\"ATP2C2\"], #CFB\n",
    "           'type2':[\"CD40LG\",\"PIGR\",\"TNFRSF17\",\"CCR10\",\"SYK\"],\n",
    "           'type3':[\"CCL5\",\"XCL1\",\"PTPN18\",\"PTPN3\",\"PPP1R15A\",\"CEBPB\"],\n",
    "           'type4':[\"SLC7A11\"]\n",
    "}\n",
    "\n",
    "newdata = adata\n",
    "sc.pl.dotplot(newdata, var_names=gene_dict, groupby=['BREED'],vmin=0,vmax=2,dot_min=0,dot_max=1,save='Intersect_Immune.pdf')"
   ]
  },
  {
   "cell_type": "code",
   "execution_count": null,
   "metadata": {},
   "outputs": [],
   "source": [
    "gene_dict={'type1':[\"ATP8\"],\n",
    "           'type2':[\"JCHAIN\",\"ENSSSCG00000037775\",\"CST3\",\"HSP90B1\",\"PDIA4\"],  #IGHM\n",
    "           'type3':['CCL5','GZMH','SKAP1','HSPH1','GNLY']\n",
    "}\n",
    "\n",
    "newdata = adata[adata.obs['CellType'].isin(['Plasma'])]\n",
    "sc.pl.dotplot(newdata, var_names=gene_dict, groupby=['BREED'],vmin=0,vmax=2,dot_min=0,dot_max=1,save='Intersect_Plasma.pdf')"
   ]
  },
  {
   "cell_type": "code",
   "execution_count": null,
   "metadata": {},
   "outputs": [],
   "source": [
    "gene_dict={'type2':[\"HBB\",\"IL23R\",\"MZB1\",\"ENSSSCG00000001521\",\"RASGRP3\"],\n",
    "           'type3':[\"CCL5\",\"CD81\",'AZIN1',\"XCL1\",'NR4A3']\n",
    "}\n",
    "\n",
    "newdata = adata[adata.obs['CellType'].isin(['CD4 αβ T cells'])]\n",
    "sc.pl.dotplot(newdata, var_names=gene_dict, groupby=['BREED'],vmin=0,vmax=2,dot_min=0,dot_max=1,save='Intersect_CD4.pdf')"
   ]
  },
  {
   "cell_type": "code",
   "execution_count": null,
   "metadata": {},
   "outputs": [],
   "source": [
    "gene_dict={'type1':[\"ENSSSCG00000038182\",\"ENSSSCG00000024914\",\"SAMD12\"],\n",
    "           'type2':[\"HBB\",\"ENSSSCG00000001521\",\"C1QC\",\"DNASE1L3\",\"MMP14\"],\n",
    "           'type3':['GNLY','CLCA1','FABP6','TMEM238','RND1']\n",
    "}\n",
    "\n",
    "newdata = adata[adata.obs['CellType'].isin(['CD8 αβ T cells'])]\n",
    "sc.pl.dotplot(newdata, var_names=gene_dict, groupby=['BREED'],vmin=0,vmax=2,dot_min=0,dot_max=1,save='Intersect_CD8.pdf')"
   ]
  },
  {
   "cell_type": "code",
   "execution_count": null,
   "metadata": {},
   "outputs": [],
   "source": [
    "data = pd.read_csv(\"Intersect_Immune.csv\")\n",
    "data = pd.read_csv(\"Intersect_Plasma.csv\")\n",
    "data = pd.read_csv(\"Intersect_CD4.csv\")\n",
    "data = pd.read_csv(\"Intersect_CD8.csv\")"
   ]
  },
  {
   "cell_type": "code",
   "execution_count": null,
   "metadata": {},
   "outputs": [],
   "source": [
    "for i in data['Type'].unique()[:]:\n",
    "    gene_list = data[data['Type'].isin([i])]\n",
    "    enr = gp.enrichr(gene_list=gene_list['gene'],\n",
    "                     gene_sets='GO_Biological_Process_2023',  #['GO_Biological_Process_2023','GO_Cellular_Component_2023','GO_Molecular_Function_2023']\n",
    "                     organism='Human',\n",
    "                     outdir='./',\n",
    "                     cutoff=0.05, \n",
    "                     no_plot=True\n",
    "                    )\n",
    "    enr.results = enr.results[enr.results['Adjusted P-value'] < 0.05]\n",
    "    enr.results['Group'] = i\n",
    "    enr.results['-Log10 P-value'] = -enr.results['Adjusted P-value'].apply(math.log10)\n",
    "    enr.results['Count'] = enr.results['Overlap'].map(lambda x:x.split('/')[0])\n",
    "    enr.results['Gene Count'] = gene_list.shape[0]\n",
    "    enr.results['Background Count'] = enr.results['Overlap'].map(lambda x:x.split('/')[1])\n",
    "    enr.results['Count'] = pd.to_numeric(enr.results['Count'],errors='coerce')\n",
    "    enr.results['Gene Count'] = pd.to_numeric(enr.results['Gene Count'],errors='coerce')\n",
    "    enr.results['Background Count'] = pd.to_numeric(enr.results['Background Count'],errors='coerce')\n",
    "    enr.results['Fold Enrichment'] = (enr.results['Count']/enr.results['Gene Count'])/(enr.results['Background Count']/14937)\n",
    "    \n",
    "    enr.results=enr.results.sort_values(by='Fold Enrichment', ascending=False)\n",
    "    enr.results=enr.results.reset_index(drop = True)\n",
    "    enr.results.to_csv('CD8_'+i+'_GO.csv')"
   ]
  },
  {
   "cell_type": "code",
   "execution_count": null,
   "metadata": {},
   "outputs": [],
   "source": [
    "for i in data['Type'].unique()[:]:\n",
    "    gene_list = data[data['Type'].isin([i])]\n",
    "    enr = gp.enrichr(gene_list=gene_list['gene'],\n",
    "                     gene_sets='KEGG_2021_Human',\n",
    "                     organism='Human',\n",
    "                     outdir='./',\n",
    "                     cutoff=0.05, \n",
    "                     no_plot=True\n",
    "                    )\n",
    "    enr.results = enr.results[enr.results['Adjusted P-value'] < 0.05]\n",
    "    enr.results['Group'] = i\n",
    "    enr.results['-Log10 P-value'] = -enr.results['Adjusted P-value'].apply(math.log10)\n",
    "    enr.results['Count'] = enr.results['Overlap'].map(lambda x:x.split('/')[0])\n",
    "    enr.results['Gene Count'] = gene_list.shape[0]\n",
    "    enr.results['Background Count'] = enr.results['Overlap'].map(lambda x:x.split('/')[1])\n",
    "    enr.results['Count'] = pd.to_numeric(enr.results['Count'],errors='coerce')\n",
    "    enr.results['Gene Count'] = pd.to_numeric(enr.results['Gene Count'],errors='coerce')\n",
    "    enr.results['Background Count'] = pd.to_numeric(enr.results['Background Count'],errors='coerce')\n",
    "    enr.results['Fold Enrichment'] = (enr.results['Count']/enr.results['Gene Count'])/(enr.results['Background Count']/8078)\n",
    "    \n",
    "    enr.results=enr.results.sort_values(by='Fold Enrichment', ascending=False)\n",
    "    enr.results=enr.results.reset_index(drop = True)\n",
    "    enr.results.to_csv('CD8_'+i+'_KEGG.csv')"
   ]
  }
 ],
 "metadata": {
  "language_info": {
   "name": "python"
  }
 },
 "nbformat": 4,
 "nbformat_minor": 2
}
