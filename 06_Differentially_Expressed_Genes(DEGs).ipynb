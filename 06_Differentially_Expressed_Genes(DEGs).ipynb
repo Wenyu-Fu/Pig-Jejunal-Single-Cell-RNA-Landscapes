{
 "cells": [
  {
   "attachments": {},
   "cell_type": "markdown",
   "metadata": {},
   "source": [
    "## Differentially Expressed Genes (DEGs)"
   ]
  },
  {
   "cell_type": "code",
   "execution_count": 1,
   "metadata": {},
   "outputs": [],
   "source": [
    "import numpy as np\n",
    "import pandas as pd\n",
    "import matplotlib.pyplot as plt\n",
    "from matplotlib import rcParams\n",
    "from matplotlib.pyplot import rc_context\n",
    "import scanpy as sc\n",
    "import scipy.io\n",
    "import os\n",
    "import math\n",
    "from pylab import *\n",
    "from matplotlib.colors import ListedColormap,LinearSegmentedColormap \n",
    "import seaborn as sns\n",
    "from pathlib import Path\n",
    "%matplotlib inline"
   ]
  },
  {
   "cell_type": "code",
   "execution_count": 6,
   "metadata": {},
   "outputs": [],
   "source": [
    "adata=sc.read_h5ad('CellType.h5ad')\n",
    "difference_JH_DUR = adata[adata.obs['BATCH'].isin(['JH_JE' , 'DUR_JE' ])]\n",
    "difference_SS_JH = adata[adata.obs['BATCH'].isin(['JH_JE' , 'SS_JE' ])]"
   ]
  },
  {
   "cell_type": "code",
   "execution_count": 8,
   "metadata": {},
   "outputs": [],
   "source": [
    "adata.uns['log1p'][\"base\"] = None"
   ]
  },
  {
   "cell_type": "code",
   "execution_count": 9,
   "metadata": {},
   "outputs": [],
   "source": [
    "groups_list=difference_JH_DUR.obs['BATCH'].cat.categories.tolist()\n",
    "cell_list=difference_JH_DUR.obs['CellType'].cat.categories.tolist()\n",
    "for i in groups_list:\n",
    "    for j in cell_list:\n",
    "        groups=i\n",
    "        cells=j\n",
    "        filename='JH_DUR_'+groups+'_'+cells\n",
    "        x = difference_JH_DUR[difference_JH_DUR.obs['CellType'].isin([cells])]\n",
    "        sc.tl.rank_genes_groups(x, groupby='BATCH', groups=[groups], reference='rest', method='wilcoxon', corr_method='benjamini-hochberg', key_added=filename)\n",
    "        result = x.uns[filename]\n",
    "        groups = result['names'].dtype.names\n",
    "        marker=pd.DataFrame(\n",
    "            {group + '_' + key: result[key][group]\n",
    "            for group in groups for key in ['names', 'scores', 'pvals_adj', 'logfoldchanges']})\n",
    "        marker.columns = ['gene', 'scores', 'Padj', 'log2FC']\n",
    "        marker.to_csv(filename+'.csv')"
   ]
  },
  {
   "cell_type": "code",
   "execution_count": 10,
   "metadata": {},
   "outputs": [],
   "source": [
    "difference_SS_JH = adata[adata.obs['BATCH'].isin(['JH_JE' , 'SS_JE' ])]\n",
    "groups_list=difference_SS_JH.obs['BATCH'].cat.categories.tolist()\n",
    "cell_list=difference_SS_JH.obs['CellType'].cat.categories.tolist()\n",
    "for i in groups_list:\n",
    "    for j in cell_list:\n",
    "        groups=i\n",
    "        cells=j\n",
    "        filename='SS_JH_'+groups+'_'+cells\n",
    "        x = difference_SS_JH[difference_SS_JH.obs['CellType'].isin([cells])]\n",
    "        sc.tl.rank_genes_groups(x, groupby='BATCH', groups=[groups], reference='rest', method='wilcoxon', corr_method='benjamini-hochberg', key_added=filename)\n",
    "        result = x.uns[filename]\n",
    "        groups = result['names'].dtype.names\n",
    "        marker=pd.DataFrame(\n",
    "            {group + '_' + key: result[key][group]\n",
    "            for group in groups for key in ['names', 'scores', 'pvals_adj', 'logfoldchanges']})\n",
    "        marker.columns = ['gene', 'scores', 'Padj', 'log2FC']\n",
    "        marker.to_csv(filename+'.csv')"
   ]
  },
  {
   "cell_type": "code",
   "execution_count": 11,
   "metadata": {},
   "outputs": [
    {
     "name": "stdout",
     "output_type": "stream",
     "text": [
      "['JH_DUR_DUR_JE_B cells.csv', 'JH_DUR_DUR_JE_Myeloid.csv', 'JH_DUR_DUR_JE_Plasma.csv', 'JH_DUR_DUR_JE_CD4 αβ T cells.csv', 'JH_DUR_DUR_JE_CD8 αβ T cells.csv', 'JH_DUR_DUR_JE_γδ T cells.csv', 'JH_DUR_DUR_JE_NK cells.csv', 'JH_DUR_DUR_JE_ILC.csv', 'JH_DUR_JH_JE_B cells.csv', 'JH_DUR_JH_JE_Myeloid.csv', 'JH_DUR_JH_JE_Plasma.csv', 'JH_DUR_JH_JE_CD4 αβ T cells.csv', 'JH_DUR_JH_JE_CD8 αβ T cells.csv', 'JH_DUR_JH_JE_γδ T cells.csv', 'JH_DUR_JH_JE_NK cells.csv', 'JH_DUR_JH_JE_ILC.csv', 'SS_JH_JH_JE_B cells.csv', 'SS_JH_JH_JE_Myeloid.csv', 'SS_JH_JH_JE_Plasma.csv', 'SS_JH_JH_JE_CD4 αβ T cells.csv', 'SS_JH_JH_JE_CD8 αβ T cells.csv', 'SS_JH_JH_JE_γδ T cells.csv', 'SS_JH_JH_JE_NK cells.csv', 'SS_JH_JH_JE_ILC.csv', 'SS_JH_SS_JE_B cells.csv', 'SS_JH_SS_JE_Myeloid.csv', 'SS_JH_SS_JE_Plasma.csv', 'SS_JH_SS_JE_CD4 αβ T cells.csv', 'SS_JH_SS_JE_CD8 αβ T cells.csv', 'SS_JH_SS_JE_γδ T cells.csv', 'SS_JH_SS_JE_NK cells.csv', 'SS_JH_SS_JE_ILC.csv']\n"
     ]
    }
   ],
   "source": [
    "files = os.listdir('./')\n",
    "\n",
    "def file_filter(f):\n",
    "    if f[-4:] in ['.csv']:\n",
    "        return True\n",
    "    else:\n",
    "        return False\n",
    "\n",
    "files = list(filter(file_filter, files))\n",
    "print(files)"
   ]
  },
  {
   "cell_type": "code",
   "execution_count": 12,
   "metadata": {},
   "outputs": [],
   "source": [
    "for i in files:\n",
    "    filename=i.replace(\".csv\", \"\")\n",
    "    data = pd.read_csv(i, index_col=0)\n",
    "    out = data[data.Padj < 0.8]\n",
    "    out = out[abs(out.log2FC) > 1.5]\n",
    "    out = out[out.scores > 1]\n",
    "    out = out.reset_index(drop = True)\n",
    "    out.to_csv(filename+'_padj.csv')"
   ]
  },
  {
   "cell_type": "code",
   "execution_count": 13,
   "metadata": {},
   "outputs": [
    {
     "name": "stdout",
     "output_type": "stream",
     "text": [
      "['JH_DUR_DUR_JE_B cells_padj.csv', 'JH_DUR_DUR_JE_Myeloid_padj.csv', 'JH_DUR_DUR_JE_Plasma_padj.csv', 'JH_DUR_DUR_JE_CD4 αβ T cells_padj.csv', 'JH_DUR_DUR_JE_CD8 αβ T cells_padj.csv', 'JH_DUR_DUR_JE_γδ T cells_padj.csv', 'JH_DUR_DUR_JE_NK cells_padj.csv', 'JH_DUR_DUR_JE_ILC_padj.csv', 'JH_DUR_JH_JE_B cells_padj.csv', 'JH_DUR_JH_JE_Myeloid_padj.csv', 'JH_DUR_JH_JE_Plasma_padj.csv', 'JH_DUR_JH_JE_CD4 αβ T cells_padj.csv', 'JH_DUR_JH_JE_CD8 αβ T cells_padj.csv', 'JH_DUR_JH_JE_γδ T cells_padj.csv', 'JH_DUR_JH_JE_NK cells_padj.csv', 'JH_DUR_JH_JE_ILC_padj.csv', 'SS_JH_JH_JE_B cells_padj.csv', 'SS_JH_JH_JE_Myeloid_padj.csv', 'SS_JH_JH_JE_Plasma_padj.csv', 'SS_JH_JH_JE_CD4 αβ T cells_padj.csv', 'SS_JH_JH_JE_CD8 αβ T cells_padj.csv', 'SS_JH_JH_JE_γδ T cells_padj.csv', 'SS_JH_JH_JE_NK cells_padj.csv', 'SS_JH_JH_JE_ILC_padj.csv', 'SS_JH_SS_JE_B cells_padj.csv', 'SS_JH_SS_JE_Myeloid_padj.csv', 'SS_JH_SS_JE_Plasma_padj.csv', 'SS_JH_SS_JE_CD4 αβ T cells_padj.csv', 'SS_JH_SS_JE_CD8 αβ T cells_padj.csv', 'SS_JH_SS_JE_γδ T cells_padj.csv', 'SS_JH_SS_JE_NK cells_padj.csv', 'SS_JH_SS_JE_ILC_padj.csv']\n"
     ]
    }
   ],
   "source": [
    "files = os.listdir('./')\n",
    "\n",
    "def file_filter(f):\n",
    "    if f[-9:] in ['_padj.csv']:\n",
    "        return True\n",
    "    else:\n",
    "        return False\n",
    "\n",
    "files = list(filter(file_filter, files))\n",
    "print(files)"
   ]
  }
 ],
 "metadata": {
  "kernelspec": {
   "display_name": "labBase",
   "language": "python",
   "name": "python3"
  },
  "language_info": {
   "codemirror_mode": {
    "name": "ipython",
    "version": 3
   },
   "file_extension": ".py",
   "mimetype": "text/x-python",
   "name": "python",
   "nbconvert_exporter": "python",
   "pygments_lexer": "ipython3",
   "version": "3.8.13"
  },
  "orig_nbformat": 4
 },
 "nbformat": 4,
 "nbformat_minor": 2
}
