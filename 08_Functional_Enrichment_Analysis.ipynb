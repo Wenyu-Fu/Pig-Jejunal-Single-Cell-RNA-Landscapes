{
 "cells": [
  {
   "cell_type": "markdown",
   "metadata": {},
   "source": [
    "## Functional Enrichment Analysis"
   ]
  },
  {
   "cell_type": "code",
   "execution_count": 1,
   "metadata": {},
   "outputs": [],
   "source": [
    "import numpy as np\n",
    "import pandas as pd\n",
    "import matplotlib.pyplot as plt\n",
    "from matplotlib import rcParams\n",
    "from matplotlib.pyplot import rc_context\n",
    "import scanpy as sc\n",
    "import scvelo as scv\n",
    "import scipy.io\n",
    "import os\n",
    "import math\n",
    "import gseapy as gp\n",
    "from gseapy.plot import barplot, dotplot, gseaplot\n",
    "from gseapy.scipalette import SciPalette\n",
    "from pylab import *\n",
    "from matplotlib.colors import ListedColormap,LinearSegmentedColormap \n",
    "import seaborn as sns\n",
    "from pathlib import Path\n",
    "%matplotlib inline"
   ]
  },
  {
   "cell_type": "code",
   "execution_count": 3,
   "metadata": {},
   "outputs": [
    {
     "name": "stdout",
     "output_type": "stream",
     "text": [
      "['gene', 'ARHGAP15', 'DOCK10', 'SKAP1', 'FYN', 'FNBP1', 'PRKCB', 'REV1', 'ENSSSCG00000011121', 'CHST11', 'CAMK4', 'SRGN', 'PIP4K2A', 'ETS1', 'PTPRC', 'CD3E', 'STK17B', 'PDE3B', 'ENSSSCG00000001097', 'LCP1', 'ENSSSCG00000005095', 'CD2', 'CTSC', 'ENSSSCG00000033909', 'CD53', 'KLF12', 'TRAT1', 'ANKRD44', 'ITGA4', 'CD247', 'ITK', 'IKZF3', 'ARHGDIB', 'INPP4B', 'CYTIP', 'RDX', 'STK17A', 'RHOH', 'ENSSSCG00000029596', 'LCP2', 'PTPN22', 'ARHGAP25', 'LAPTM5', 'OGT', 'RGS1', 'EVL', 'ITGB7', 'CORO1A', 'SEPTIN6', 'RUNX3', 'PTPRCAP', 'CD96', 'RFTN1', 'SFMBT2', 'CD69', 'LCK', 'CD3D', 'BTBD11', 'NLRC3', 'ENSSSCG00000040535', 'ZEB1', 'INPP5D', 'CST7', 'TSPAN5', 'ENSSSCG00000036618', 'APBB1IP', 'THEMIS', 'TRPS1', 'ENSSSCG00000000576', 'PTK2B', 'TNFAIP8', 'PAG1', 'STK4', 'SH3KBP1', 'DOCK2', 'SLC9A9', 'CRLF3', 'STAT4', 'IKZF2', 'ENSSSCG00000016475', 'LNPEP', 'ITGAE', 'CCND3', 'TGFBR2', 'CD37', 'PARP8', 'SNTB1', 'PRKCQ', 'IKZF1', 'ENSSSCG00000025499', 'TRERF1', 'PREX1', 'GPR171', 'MAPRE2', 'FLI1', 'SCML4', 'VAV3', 'SH3BGRL3', 'CCR9', 'XYLT1', 'NOL11', 'ENSSSCG00000027348', 'SYTL3', 'CRTAM', 'RCSD1', 'PPP1R16B', 'WAS', 'CD81', 'ARPC1B', 'ENSSSCG00000028092', 'STK26', 'CD8A', 'CD6', 'PDE4B', 'MED7', 'EMB', 'ST8SIA4', 'NIBAN1', 'REL', 'AKT3', 'NKG7', 'PPP1R18', 'HCLS1', 'CYFIP2', 'FOXO1', 'RASGRP1', 'ARHGEF3', 'TGFB1', 'ENSSSCG00000023584', 'ENSSSCG00000001398', 'RUNX2', 'ENSSSCG00000007322', 'ARID5B', 'CD244', 'RORA', 'NAP1L1', 'CARD11', 'SLC11A2', 'SASH3', 'ZDHHC14', 'GMFG', 'ST6GALNAC4', 'SEPTIN1', 'CD5', 'XCL1', 'KCNQ5', 'GZMH', 'TRAF3IP3', 'CREM', 'ZAP70', 'ENSSSCG00000001455', 'FYB1', 'ST8SIA1', 'AKNA', 'TMEM154', 'RGCC', 'LIMD2', 'CTSW', 'NR3C1', 'SLCO3A1', 'EMP3', 'ENSSSCG00000045541', 'ENSSSCG00000004082', 'MSN', 'LAX1', 'RBMS1', 'MYO5A', 'ARHGEF6', 'DUSP4', 'TSC22D3', 'PIK3CD', 'ST6GAL1', 'ENSSSCG00000031897', 'QKI', 'ENSSSCG00000038062', 'MDFIC', 'LSP1', 'RIN3', 'NR4A2', 'ANXA6', 'CD38', 'RESF1', 'HLA-DRA', 'IL7R', 'SIT1', 'RASSF5', 'ENSSSCG00000005949', 'GSAP', 'CAMK1D', 'ELOVL5', 'SPNS1', 'PSIP1', 'CMTM7', 'ITGAL', 'VIM', 'CDK17', 'TBC1D10C', 'GZMA', 'BIN2', 'ENSSSCG00000017749', 'NFATC2', 'CCL4', 'ENSSSCG00000029668', 'PVRIG', 'AHI1', 'ENSSSCG00000001456', 'C21orf91', 'TXK', 'GZMA-1', 'ENSSSCG00000022925', 'PHTF2', 'CSK', 'PACS1', 'MYO1F', 'SEMA4D', 'TMEM156', 'TMEM123', 'RGS19', 'ARHGAP30', 'TAGAP', 'APOBEC3B', 'SLAMF6', 'CD226', 'CLEC2B', 'SLA-DQB1', 'ENSSSCG00000026430', 'EVI2B', 'LPXN', 'SERPINB9', 'NIN', 'ENSSSCG00000011676', 'ACAP1', 'ENSSSCG00000027677', 'ENSSSCG00000027196', 'CEP85L', 'PHACTR2', 'GNAI2', 'ENSSSCG00000012397', 'LRRC8C', 'GIMAP4', 'ENSSSCG00000010448', 'PLAGL1', 'SNRPN', 'GLIPR1', 'KLRK1', 'CD8B', 'ARL6IP5', 'CD48', 'USP20', 'CCDC69', 'EGLN3', 'CLIC4', 'ST3GAL5', 'ENSSSCG00000006418', 'IFIT1', 'ENSSSCG00000022692', 'JAML', 'HS3ST3B1', 'DYNLT3', 'GCNT1', 'ENSSSCG00000036556', 'CHSY1', 'ENSSSCG00000012517', 'FUNDC1', 'PRKD3', 'SAMHD1', 'DAPK2', 'ARL4C', 'DOCK11', 'MED12L', 'IL10RA', 'NFATC1', 'ARHGAP45', 'BIN1', 'TRPV2', 'RUBCNL', 'CNN2', 'GPR174', 'UNC119', 'GCSAM', 'SLAMF7', 'UBASH3A', 'STAMBPL1', 'ATP2B4', 'CEP170', 'MAN1C1', 'ENSSSCG00000000295', 'ENSSSCG00000050966', 'SIPA1', 'IL16', 'RHOQ', 'ENSSSCG00000000025', 'GFOD1', 'RBM3', 'SEMA4A', 'UBXN11', 'ENSSSCG00000004081', 'HERPUD2', 'FMNL1', 'RNF125', 'TNFAIP3', 'SMPD1', 'PLEKHO1', 'CD84', 'UCP2', 'BCL2A1', 'CTSA', 'RASAL3', 'PRF1', 'ELK3', 'ARHGAP4', 'CXCR4', 'VAV1', 'CCDC85B', 'ACP5', 'BCL11B', 'AGK', 'AHRR', 'MOB3A', 'ZBTB10', 'ENTPD1', 'STX11', 'SLC44A2', 'ENSSSCG00000039656', 'SH2D3C', 'SCG5', 'TRAF1', 'JAK3', 'RNF122', 'PTPRE', 'ENSSSCG00000006452', 'SPAG16', 'MAP3K8', 'GPR55', 'SLA-DMA', 'IL27RA', 'NR4A3', 'ENSSSCG00000036822', 'ENSSSCG00000005518', 'CNP', 'PCED1B', 'RILPL2', 'ARRB2', 'GATA3', 'DTX1', 'SERPINI1', 'ENSSSCG00000000299', 'ZEB2', 'IRAK2', 'ENSSSCG00000009240', 'DUSP2', 'IL21R', 'JAKMIP1', 'ENSSSCG00000026217', 'TCP11L2', 'ENSSSCG00000039407', 'CD101', 'PRKAR2B', 'GPR183', 'MYO1G', 'GNA15', 'PSTPIP1', 'ENSSSCG00000044512', 'TNFRSF1B', 'GPR18', 'KIAA0040', 'ARHGAP9', 'FCER1G', 'MAP4K1', 'NAF1', 'KLHL5', 'ENSSSCG00000002918', 'SP4', 'BACH2', 'GPR82', 'SSBP4', 'KCNA3', 'SLA-DMB', 'EOGT', 'BCAS4', 'SCPEP1', 'IL17RA', 'RGS10', 'VOPP1', 'ENSSSCG00000040100', 'ZNF205', 'ENSSSCG00000035256', 'ARHGAP6', 'ITGA1', 'SPNS3', 'DUSP22', 'TET1', 'SLC9A7', 'TMEM71', 'CAPG', 'ENSSSCG00000029752', 'TBX21', 'SUSD1', 'IL12RB1', 'CD200R1', 'ZNF831', 'ENSSSCG00000047344', 'NOTCH1', 'CDC42SE1', 'HDGFL3', 'ENSSSCG00000026996', 'CYTH4', 'PTPN7', 'STAT5A', 'HPSE', 'SLC39A10', 'RASSF2', 'ENSSSCG00000040701', 'U2AF1L4', 'CCDC66', 'ENSSSCG00000033721', 'P2RY10', 'IFFO2', 'CAMKK2', 'CD86', 'SERPINF1', 'GRAMD1A', 'ENSSSCG00000025253', 'SPSB1', 'ENSSSCG00000004830', 'ICOS', 'KIF21B', 'PIK3IP1', 'ENSSSCG00000017868', 'GPR34', 'KCNAB2', 'GPN3', 'VRK1', 'FASLG', 'PHTF1', 'SLC4A8', 'TESC', 'COPS8', 'ENSSSCG00000030015', 'ADGRG5', 'ENSSSCG00000048994', 'MPP6', 'STN1', 'LY96', 'ENSSSCG00000028531', 'JAZF1', 'CASS4', 'CXCR6', 'TOX2', 'S100A11', 'ENSSSCG00000027046', 'FMNL3', 'ENSSSCG00000033623', 'LY9', 'MMD', 'SPOCK2', 'DENND1C', 'SEMA7A', 'IL6R', 'ZBTB25', 'ENSSSCG00000009125', 'ENSSSCG00000017032', 'TRIB2', 'PRDM1', 'BICDL1', 'SLC66A3', 'CXCR3', 'GSTA4', 'ABHD15', 'TG', 'FAM78A', 'CCDC28B', 'FCMR', 'SH2D2A', 'LIX1L', 'CD28', 'TNIP3', 'GABARAPL1', 'HDAC9', 'ARID5A', 'NCF2', 'FAM185A', 'ADORA2B', 'ENSSSCG00000015447', 'ENSSSCG00000004547', 'OPRM1', 'TIGIT', 'HLA-DOB', 'LRMDA', 'RASGRP2', 'FCRL6', 'EPHB6', 'ENSSSCG00000008686', 'FCHO1', 'ENSSSCG00000013504', 'ENSSSCG00000031741', 'PLXNC1', 'BATF3', 'ENSSSCG00000018050', 'CHST12', 'NUP210', 'FSCN1', 'CD80', 'ST3GAL2', 'EPAS1', 'DNAH6', 'NAPSA', 'HAVCR2', 'INSYN2B', 'RRP1B', 'ATP8B4', 'MFNG', 'ENSSSCG00000031476', 'ENSSSCG00000016451', 'GAB3', 'IFNG', 'ENSSSCG00000038351', 'BST2', 'ENSSSCG00000040586', 'SLC9B2', 'TIMP1', 'PLCB2', 'PLSCR3', 'LAG3', 'GZMK', 'ARHGAP31', 'RASGEF1A', 'B4GALT4', 'POC1A', 'RGS14', 'ENSSSCG00000015036', 'TNFSF14', 'GPR15', 'ENSSSCG00000043987', 'ENSSSCG00000040752', 'SLAIN1', 'PDCD1LG2', 'PTP4A3', 'MTR', 'ENSSSCG00000037566', 'CCR5', 'PLVAP', 'BMF', 'BCL6', 'ENSSSCG00000031855', 'IL12RB2', 'GSPT2', 'MCTP1', 'ENSSSCG00000051570', 'PHF1', 'CIITA', 'SMIM29', 'ENSSSCG00000045622', 'TP53I11', 'KLHL4', 'ITGB2', 'SLAMF1', 'MYADM', 'ENSSSCG00000031300', 'SH2D1A', 'KLF8', 'RAB29', 'DNASE2', 'ENSSSCG00000033104', 'CSRP1', 'B3GALNT1', 'ATP1B2', 'RNF166', 'WHRN', 'ENSSSCG00000000640', 'CDH24', 'TNFSF12', 'PIM2', 'AGAP2', 'ENSSSCG00000037475', 'KLRD1', 'P2RY8', 'FANCM', 'SLC4A11', 'ENSSSCG00000006376', 'FAM89B', 'ARAP3', 'CHODL', 'CEP152', 'ENSSSCG00000045808', 'TNFSF9', 'CACNA1D', 'CACNB4', 'TSPAN10', 'AICDA', 'GIMAP8', 'ENSSSCG00000008677', 'CMTM8', 'ENSSSCG00000032810', 'ENSSSCG00000029257', 'NMUR1', 'ENSSSCG00000042191', 'THSD7B', 'PPM1M', 'IFFO1', 'ST3GAL4', 'MSC', 'CDC42EP3', 'DTNA', 'ZDHHC15', 'PCMTD2', 'SAMD3', 'HVCN1', 'MAP4K2', 'FKBP1B', 'ACKR3', 'TNNI2', 'BCAT1', 'NAV3', 'IL1RL1', 'SH3BP2', 'CLNK', 'ENSSSCG00000035224', 'OCIAD2', 'NRROS', 'DOK2', 'AQP3', 'FGR', 'IL2RA', 'CBX6', 'GRHL1', 'CYSLTR2', 'ADAMTS9', 'ENSSSCG00000045051', 'ICAM1', 'DOCK3', 'TMEM74', 'ENSSSCG00000049158', 'ENSSSCG00000015664', 'CYTH3', 'ELOVL4', 'SCN8A', 'AGFG2', 'ENSSSCG00000039706', 'SARM1', 'CNIH3', 'KLF2', 'ASB2', 'RANBP3L', 'LRP8', 'GPSM3', 'IRF4', 'ENSSSCG00000048333', 'A4GALT', 'TNFAIP8L2', 'LEF1', 'ENSSSCG00000041954', 'ENSSSCG00000049910', 'C8orf34', 'NKD1', 'ENSSSCG00000016868', 'SYN1', 'ZNF792', 'TBXA2R', 'AKAP5', 'ENSSSCG00000033918', 'ENSSSCG00000034219', 'GPR68', 'ENSSSCG00000038226', 'ITPRIP', 'ENSSSCG00000005311', 'ENSSSCG00000000638', 'ENSSSCG00000049359', 'TOMM34', 'ALDH4A1', 'NXPE3', 'ENSSSCG00000046588', 'PDCD1', 'PLCL1', 'SLC12A4', 'SPINDOC', 'TRPC3', 'ZBTB32', 'FLNA', 'ADAM19', 'RUSC2', 'FADS1', 'C20orf194', 'RASGRP3', 'SELL', 'EVA1B', 'MAPRE3', 'FADS2', 'LGALS1', 'ENSSSCG00000041010', 'TMEM9', 'FSD1', 'STING1', 'PTCH2', 'TNF', 'GIMAP2', 'CA2', 'ENSSSCG00000003271', 'CALHM6', 'APBB1', 'NAB2', 'CD40LG', 'ENSSSCG00000035371', 'ENSSSCG00000000636', 'SYTL1', 'CTLA4', 'BTN2A2', 'ENSSSCG00000037364', 'PPP2R2B', 'ERP27', 'ENSSSCG00000000297', 'SYNGAP1', 'F8', 'POU6F1', 'USP44', 'ENSSSCG00000042577', 'STRIP2', 'MEF2C', 'ENSSSCG00000010128', 'ENSSSCG00000034555', 'UBE4A', 'TCTN3', 'SEPTIN3', 'ENSSSCG00000003236', 'SUSD3', 'SLC17A7', 'CCRL2', 'SLC9A5', 'FANCD2', 'S1PR2', 'RGS18', 'ENSSSCG00000039807', 'MNDA', 'PLPP7', 'ENSSSCG00000004170', 'SLC16A6', 'ANKRD33B', 'CD4', 'ENSSSCG00000029347', 'PAPPA', 'ENSSSCG00000039222', 'PDE4A', 'SLC22A17', 'NDUFA4L2', 'ANGPT2', 'ENSSSCG00000038462', 'ATP8B2', 'SEMA4F', 'RASAL1', 'ENG', 'FOXP3', 'ENSSSCG00000039880', 'MZB1', 'STAP1', 'SLC25A53', 'SHCBP1L', 'SSC4D', 'ENSSSCG00000032108', 'PARD6G', 'LRCH4', 'PSAT1', 'RASA3', 'FLYWCH1', 'PTGS2', 'TMEM204', 'ENSSSCG00000032714', 'ENSSSCG00000050527', 'ZWINT', 'ENSSSCG00000004656', 'PCDH7', 'PARVB', 'ZPBP2', 'ENSSSCG00000012541', 'ENSSSCG00000043909', 'MMP25', 'TYROBP', 'IL18RAP', 'IL26', 'ENSSSCG00000002081', 'FAM216A', 'BICC1', 'HEATR9', 'BTK', 'GREB1L', 'AFF2', 'ENSSSCG00000040548', 'TMPRSS13', 'CCDC65', 'ENSSSCG00000048337', 'BLK', 'ITGB3', 'ARSB', 'ENSSSCG00000044206', 'PDE7B', 'ADAMTS10', 'B3GNT3', 'ENSSSCG00000033574', 'BANK1', 'CLIP4', 'TNFRSF17', 'QPCT', 'CCDC136', 'ENSSSCG00000000363', 'ASB9', 'TDRP', 'BMERB1', 'ENSSSCG00000045597', 'GEM', 'KLK7', 'PAPPA2', 'SHCBP1', 'TICRR', 'C15orf65', 'HHEX', 'DTHD1', 'CRHBP', 'S1PR4', 'ENSSSCG00000001407', 'CD300C', 'ENSSSCG00000016269', 'POU2AF1', 'DIPK1B', 'ENSSSCG00000041185', 'CCR4', 'F2R', 'IL10', 'ENSSSCG00000049415', 'TMC8', 'ATP6V1E2', 'CCR10', 'CCL3L1', 'ENSSSCG00000047840', 'IL23R', 'CEND1', 'NME8', 'P14ARF', 'ENSSSCG00000012915', 'MCAM', 'ENSSSCG00000042730', 'ENSSSCG00000049177', 'SERPINE2', 'MYEF2', 'ENSSSCG00000045565', 'ENSSSCG00000026210', 'PRR29', 'SPI1', 'STMND1', 'CSF2RB', 'ENSSSCG00000047586', 'TNFRSF4', 'ZDHHC8', 'TXLNB', 'ENSSSCG00000033933', 'ENSSSCG00000005488', 'FOLR1', 'ENSSSCG00000021374', 'CCDC102A', 'CDC20B', 'ENSSSCG00000024860', 'TASL', 'ERBB4', 'ENSSSCG00000050955', 'SMIM35', 'ZPBP', 'THEMIS2', 'LONRF2', 'TRAV2', 'UCHL1', 'TNFSF8', 'ENSSSCG00000008709', 'FHOD3', 'CALHM2', 'AMPH', 'ENSSSCG00000049121', 'ENSSSCG00000001232', 'AUNIP', 'OGN', 'ARNTL2', 'NLRP3', 'ENSSSCG00000013717', 'ACOXL', 'ENSSSCG00000016486', 'ENSSSCG00000021656', 'GP91-PHOX', 'DEF6', 'ENSSSCG00000044269']\n"
     ]
    }
   ],
   "source": [
    "import pandas as pd\n",
    "data = pd.read_excel(\"DEG.xlsx\", header=None) \n",
    "gene_list = data[0].tolist()\n",
    "print(gene_list)"
   ]
  },
  {
   "cell_type": "code",
   "execution_count": 4,
   "metadata": {},
   "outputs": [],
   "source": [
    "enr = gp.enrichr(gene_list=gene_list,\n",
    "                gene_sets='GO_Biological_Process_2021',  #['GO_Cellular_Component_2021','GO_Molecular_Function_2021',''KEGG_2021_Human']\n",
    "                organism='Human',\n",
    "                outdir='./',\n",
    "                cutoff=0.05,\n",
    "                no_plot=True\n",
    "                )\n",
    "file_path = f'immune_DEG_GO.csv'\n",
    "enr.results = enr.results[enr.results['Adjusted P-value'] < 0.05]\n",
    "enr.results['CellType'] = \"Immune cell\"    \n",
    "enr.results['-Log10 P-value'] = -enr.results['Adjusted P-value'].apply(math.log10)\n",
    "enr.results['Count'] = enr.results['Overlap'].map(lambda x:x.split('/')[0])\n",
    "enr.results['Gene Count'] = len(gene_list)\n",
    "enr.results['Background Count'] = enr.results['Overlap'].map(lambda x:x.split('/')[1])\n",
    "enr.results['Count'] = pd.to_numeric(enr.results['Count'],errors='coerce')\n",
    "enr.results['Gene Count'] = pd.to_numeric(enr.results['Gene Count'],errors='coerce')\n",
    "enr.results['Background Count'] = pd.to_numeric(enr.results['Background Count'],errors='coerce')\n",
    "enr.results['Fold Enrichment'] = (enr.results['Count']/enr.results['Gene Count'])/(enr.results['Background Count']/14937)\n",
    "enr.results['Method'] = \"GO Enrichment\"  \n",
    "enr.results=enr.results.sort_values(by='Fold Enrichment', ascending=False)\n",
    "enr.results=enr.results.reset_index(drop = True)\n",
    "    \n",
    "enr.results.to_csv(file_path)"
   ]
  },
  {
   "cell_type": "code",
   "execution_count": null,
   "metadata": {},
   "outputs": [],
   "source": [
    "files = os.listdir('./')\n",
    "\n",
    "def file_filter(f):\n",
    "    if f[-9:] in ['_padj.csv']:\n",
    "        return True\n",
    "    else:\n",
    "        return False\n",
    "\n",
    "files = list(filter(file_filter, files))\n",
    "print(files)"
   ]
  },
  {
   "cell_type": "code",
   "execution_count": null,
   "metadata": {},
   "outputs": [],
   "source": [
    "for i in files:\n",
    "    filename=i.replace(\"_padj.csv\", \"\")\n",
    "    data = pd.read_csv(i, index_col=0)\n",
    "    data_up = data[data.log2FC > 0]\n",
    "    data_dw = data[data.log2FC < 0]\n",
    "    enr_up = gp.enrichr(gene_list=data_up.gene,\n",
    "                        gene_sets='GO_Biological_Process_2021',  #['GO_Cellular_Component_2021','GO_Molecular_Function_2021']\n",
    "                        organism='Human',\n",
    "                        outdir='./',\n",
    "                        cutoff=0.05,  \n",
    "                        no_plot=True\n",
    "\n",
    "                        )\n",
    "    enr_dw = gp.enrichr(gene_list=data_dw.gene,\n",
    "                        gene_sets='GO_Biological_Process_2021',  #['GO_Cellular_Component_2021','GO_Molecular_Function_2021']\n",
    "                        organism='Human',\n",
    "                        outdir='./',\n",
    "                        cutoff=0.05,  \n",
    "                        no_plot=True\n",
    "                        )\n",
    "    enr_up.results.to_csv(filename+'_up_GO.csv')\n",
    "    enr_dw.results.to_csv(filename+'_dw_GO.csv')\n",
    "    enr_up.res2d['UP_DW'] = \"UP\"\n",
    "    enr_dw.res2d['UP_DW'] = \"DOWN\"\n",
    "    enr_up.res2d.Term = enr_up.res2d.Term.str.split(\" \\(GO\").str[0]\n",
    "    enr_dw.res2d.Term = enr_dw.res2d.Term.str.split(\" \\(GO\").str[0]\n",
    "    enr_res = pd.concat([enr_up.res2d.head(), enr_dw.res2d.head()])\n",
    "    enr_res.to_csv(filename+'_GO.csv')"
   ]
  }
 ],
 "metadata": {
  "kernelspec": {
   "display_name": "labBase",
   "language": "python",
   "name": "python3"
  },
  "language_info": {
   "codemirror_mode": {
    "name": "ipython",
    "version": 3
   },
   "file_extension": ".py",
   "mimetype": "text/x-python",
   "name": "python",
   "nbconvert_exporter": "python",
   "pygments_lexer": "ipython3",
   "version": "3.8.13"
  }
 },
 "nbformat": 4,
 "nbformat_minor": 2
}
