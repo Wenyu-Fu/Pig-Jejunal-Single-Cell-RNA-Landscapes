{
 "cells": [
  {
   "attachments": {},
   "cell_type": "markdown",
   "metadata": {},
   "source": [
    "## Downsampling Analysis"
   ]
  },
  {
   "cell_type": "markdown",
   "metadata": {},
   "source": [
    "### counts downsampleing"
   ]
  },
  {
   "cell_type": "code",
   "execution_count": null,
   "metadata": {},
   "outputs": [],
   "source": [
    "import numpy as np\n",
    "import pandas as pd\n",
    "import matplotlib.pyplot as plt\n",
    "import decoupler as dc\n",
    "import scanpy as sc\n",
    "import os\n",
    "import math\n",
    "import csv"
   ]
  },
  {
   "cell_type": "code",
   "execution_count": null,
   "metadata": {},
   "outputs": [],
   "source": [
    "PATH='/filtered_feature_bc_matrix/' \n",
    "ap={}\n",
    "sample=['DUR_JE','SS_JE','JH_JE']\n",
    "\n",
    "for i in sample:\n",
    "    ap[f'{i}']=sc.read_10x_mtx(PATH+f'{i}')\n",
    "    ap[f'{i}'].var_names_make_unique\n",
    "    scrublets=pd.read_csv(PATH+f'{i}'+'/doublet.txt',index_col='barcode')\n",
    "    ap[f'{i}'].obs['doublet_scores']=scrublets['doublet_scores']\n",
    "    ap[f'{i}'].obs['predicted_doublets']=scrublets['predicted_doublets']\n",
    "    x=['{}',f'{i}']\n",
    "    ap[f'{i}'].obs.index=ap[f'{i}'].obs.index.map('_'.join(x).format)\n",
    "    \n",
    "    sc.pp.filter_cells(ap[f'{i}'], min_genes=200)\n",
    "    sc.pp.filter_genes(ap[f'{i}'], min_cells=3)\n",
    "    ap[f'{i}'].var['mt'] = ap[f'{i}'].var_names.str.startswith('MT') \n",
    "    sc.pp.calculate_qc_metrics(ap[f'{i}'], qc_vars=['mt'], percent_top=None, log1p=False, inplace=True)\n",
    "    ap[f'{i}'] = ap[f'{i}'][ap[f'{i}'].obs['predicted_doublets']==False, :].copy()\n",
    "    ap[f'{i}'] = ap[f'{i}'][ap[f'{i}'].obs.n_genes_by_counts < 7500, :]\n",
    "    ap[f'{i}'] = ap[f'{i}'][ap[f'{i}'].obs.n_genes_by_counts > 200, :]\n",
    "    ap[f'{i}'] = ap[f'{i}'][ap[f'{i}'].obs.pct_counts_mt < 0.5, :]"
   ]
  },
  {
   "cell_type": "code",
   "execution_count": null,
   "metadata": {},
   "outputs": [],
   "source": [
    "ap['JH_JE'].obs['total_counts'].describe()"
   ]
  },
  {
   "cell_type": "code",
   "execution_count": null,
   "metadata": {},
   "outputs": [],
   "source": [
    "ap['DUR_JE'].obs['total_counts'].describe()"
   ]
  },
  {
   "cell_type": "code",
   "execution_count": null,
   "metadata": {},
   "outputs": [],
   "source": [
    "ap['SS_JE'].obs['total_counts'].describe()"
   ]
  },
  {
   "cell_type": "code",
   "execution_count": null,
   "metadata": {},
   "outputs": [],
   "source": [
    "adata_jh=ap['JH_JE'].copy()\n",
    "adata_du=ap['DUR_JE'].copy()\n",
    "adata_awb=ap['SS_JE'].copy()"
   ]
  },
  {
   "cell_type": "code",
   "execution_count": null,
   "metadata": {},
   "outputs": [],
   "source": [
    "sc.pp.downsample_counts(adata_jh, counts_per_cell=6300, random_state=2, replace=False, copy=False)\n",
    "sc.pp.downsample_counts(adata_du, counts_per_cell=6300, random_state=2, replace=False, copy=False)\n",
    "sc.pp.downsample_counts(adata_awb, counts_per_cell=6300, random_state=2, replace=False, copy=False)"
   ]
  },
  {
   "cell_type": "code",
   "execution_count": null,
   "metadata": {},
   "outputs": [],
   "source": [
    "sc.pp.downsample_counts(adata_jh, counts_per_cell=8172, random_state=2, replace=False, copy=False)\n",
    "sc.pp.downsample_counts(adata_du, counts_per_cell=8172, random_state=2, replace=False, copy=False)\n",
    "sc.pp.downsample_counts(adata_awb, counts_per_cell=8172, random_state=2, replace=False, copy=False)"
   ]
  },
  {
   "cell_type": "code",
   "execution_count": null,
   "metadata": {},
   "outputs": [],
   "source": [
    "sc.pp.calculate_qc_metrics(adata_jh, percent_top=None, log1p=False, inplace=True)\n",
    "sc.pp.calculate_qc_metrics(adata_du, percent_top=None, log1p=False, inplace=True)\n",
    "sc.pp.calculate_qc_metrics(adata_awb, percent_top=None, log1p=False, inplace=True)"
   ]
  },
  {
   "cell_type": "code",
   "execution_count": null,
   "metadata": {},
   "outputs": [],
   "source": [
    "concat = sc.read_h5ad('adata_jh_downsampling_mid_6300.h5ad')\n",
    "adata = sc.read_h5ad('adata_CellLineage.h5ad')\n",
    "common_cells = set(concat.obs_names) & set(adata.obs_names)\n",
    "common_genes = set(concat.var_names) & set(adata.var_names)\n",
    "concat = concat[concat.obs_names.isin(common_cells), :]\n",
    "adata = adata[adata.obs_names.isin(common_cells), :]\n",
    "concat = concat[: ,concat.var_names.isin(common_genes)]\n",
    "adata = adata[:, adata.var_names.isin(common_genes)]\n",
    "adata.layers['counts']=concat.X"
   ]
  },
  {
   "cell_type": "code",
   "execution_count": null,
   "metadata": {},
   "outputs": [],
   "source": [
    "pdata = dc.get_pseudobulk(\n",
    "    adata,\n",
    "    sample_col='BREED',\n",
    "    groups_col=None,\n",
    "    layer='counts',\n",
    "    mode='sum',\n",
    "    min_cells=10,\n",
    "    min_counts=1000\n",
    ")"
   ]
  },
  {
   "cell_type": "code",
   "execution_count": null,
   "metadata": {},
   "outputs": [],
   "source": [
    "pdata.layers['counts'] = pdata.X.copy()"
   ]
  },
  {
   "cell_type": "code",
   "execution_count": null,
   "metadata": {},
   "outputs": [],
   "source": [
    "list = pdata.T.to_df()\n",
    "list.to_csv(\"pseudobulk_raw_counts_jh_downsampling_mid_6300_\"+i+\".csv\", index=True)"
   ]
  },
  {
   "cell_type": "markdown",
   "metadata": {},
   "source": [
    "### cell number downsampleing"
   ]
  },
  {
   "cell_type": "code",
   "execution_count": null,
   "metadata": {},
   "outputs": [],
   "source": [
    "import numpy as np\n",
    "import pandas as pd\n",
    "import matplotlib.pyplot as plt\n",
    "import decoupler as dc\n",
    "import scanpy as sc\n",
    "import os\n",
    "import math\n",
    "import csv"
   ]
  },
  {
   "cell_type": "code",
   "execution_count": null,
   "metadata": {},
   "outputs": [],
   "source": [
    "PATH='/filtered_feature_bc_matrix/' \n",
    "ap={}\n",
    "sample=['DUR_JE','SS_JE','JH_JE']\n",
    "\n",
    "for i in sample:\n",
    "    ap[f'{i}']=sc.read_10x_mtx(PATH+f'{i}')\n",
    "    ap[f'{i}'].var_names_make_unique\n",
    "    scrublets=pd.read_csv(PATH+f'{i}'+'/doublet.txt',index_col='barcode')\n",
    "    ap[f'{i}'].obs['doublet_scores']=scrublets['doublet_scores']\n",
    "    ap[f'{i}'].obs['predicted_doublets']=scrublets['predicted_doublets']\n",
    "    x=['{}',f'{i}']\n",
    "    ap[f'{i}'].obs.index=ap[f'{i}'].obs.index.map('_'.join(x).format)\n",
    "    \n",
    "    sc.pp.filter_cells(ap[f'{i}'], min_genes=200)\n",
    "    sc.pp.filter_genes(ap[f'{i}'], min_cells=3)\n",
    "    ap[f'{i}'].var['mt'] = ap[f'{i}'].var_names.str.startswith('MT') \n",
    "    sc.pp.calculate_qc_metrics(ap[f'{i}'], qc_vars=['mt'], percent_top=None, log1p=False, inplace=True)\n",
    "    ap[f'{i}'] = ap[f'{i}'][ap[f'{i}'].obs['predicted_doublets']==False, :].copy()\n",
    "    ap[f'{i}'] = ap[f'{i}'][ap[f'{i}'].obs.n_genes_by_counts < 7500, :]\n",
    "    ap[f'{i}'] = ap[f'{i}'][ap[f'{i}'].obs.n_genes_by_counts > 200, :]\n",
    "    ap[f'{i}'] = ap[f'{i}'][ap[f'{i}'].obs.pct_counts_mt < 0.5, :]"
   ]
  },
  {
   "cell_type": "code",
   "execution_count": 8,
   "metadata": {},
   "outputs": [
    {
     "name": "stderr",
     "output_type": "stream",
     "text": [
      "... storing 'feature_types' as categorical\n",
      "... storing 'feature_types' as categorical\n",
      "... storing 'feature_types' as categorical\n"
     ]
    }
   ],
   "source": [
    "ap['JH_JE'].write('adata_jh_rowdata.h5ad')\n",
    "ap['DUR_JE'].write('adata_du_rowdata.h5ad')\n",
    "ap['SS_JE'].write('adata_awb_rowdata.h5ad')"
   ]
  },
  {
   "cell_type": "code",
   "execution_count": 361,
   "metadata": {},
   "outputs": [],
   "source": [
    "adata_jh = ad.read('adata_jh_rowdata.h5ad')\n",
    "adata_du = ad.read('adata_du_rowdata.h5ad')\n",
    "adata_awb = ad.read('adata_awb_rowdata.h5ad')"
   ]
  },
  {
   "cell_type": "code",
   "execution_count": null,
   "metadata": {},
   "outputs": [],
   "source": [
    "sc.pp.subsample(adata_jh, n_obs=2000, random_state=1)\n",
    "sc.pp.subsample(adata_du, n_obs=2000, random_state=1)\n",
    "sc.pp.subsample(adata_awb, n_obs=2000, random_state=1)"
   ]
  },
  {
   "cell_type": "code",
   "execution_count": 363,
   "metadata": {},
   "outputs": [],
   "source": [
    "adata_jh.write('adata_jh_subsample_1.h5ad')\n",
    "adata_du.write('adata_du_subsample_1.h5ad')\n",
    "adata_awb.write('adata_awb_subsample_1.h5ad')"
   ]
  },
  {
   "cell_type": "code",
   "execution_count": null,
   "metadata": {},
   "outputs": [],
   "source": [
    "adata_jh = ad.read('adata_jh_subsample_1.h5ad')\n",
    "adata_du = ad.read('adata_du_subsample_1.h5ad')\n",
    "adata_awb = ad.read('adata_awb_subsample_1.h5ad')\n",
    "\n",
    "adata_combined = ad.concat([adata_jh, adata_du, adata_awb], label='sample', keys=['JH', 'DUR', 'SS'])\n",
    "\n",
    "adata_combined.write('adata_combined.h5ad')\n"
   ]
  },
  {
   "cell_type": "code",
   "execution_count": null,
   "metadata": {},
   "outputs": [],
   "source": [
    "concat = sc.read_h5ad('adata_combined.h5ad')\n",
    "adata = sc.read_h5ad('adata_CellLineage.h5ad')\n",
    "common_cells = set(concat.obs_names) & set(adata.obs_names) \n",
    "common_genes = set(concat.var_names) & set(adata.var_names)\n",
    "concat = concat[concat.obs_names.isin(common_cells), :]\n",
    "adata = adata[adata.obs_names.isin(common_cells), :]\n",
    "concat = concat[: ,concat.var_names.isin(common_genes)]\n",
    "adata = adata[:, adata.var_names.isin(common_genes)]"
   ]
  },
  {
   "cell_type": "code",
   "execution_count": null,
   "metadata": {},
   "outputs": [],
   "source": [
    "adata_plasma=adata[adata.obs['CellLineage'].isin(['Plasma'])]\n",
    "jh_plasma=adata_plasma[adata_plasma.obs['BREED'].isin(['JH'])]\n",
    "common_cells = set(concat.obs_names) & set(jh_plasma.obs_names) \n",
    "common_genes = set(concat.var_names) & set(jh_plasma.var_names)\n",
    "concat = concat[concat.obs_names.isin(common_cells), :]\n",
    "jh_plasma = jh_plasma[jh_plasma.obs_names.isin(common_cells), :]\n",
    "concat = concat[: ,concat.var_names.isin(common_genes)]\n",
    "jh_plasma = jh_plasma[:, jh_plasma.var_names.isin(common_genes)]"
   ]
  },
  {
   "cell_type": "code",
   "execution_count": 369,
   "metadata": {},
   "outputs": [],
   "source": [
    "adata = sc.read_h5ad('adata_CellLineage.h5ad')"
   ]
  },
  {
   "cell_type": "code",
   "execution_count": 370,
   "metadata": {},
   "outputs": [],
   "source": [
    "adata = adata[adata.obs['CellLineage'].isin(['Plasma'])]\n",
    "adata = adata[adata.obs['BREED'].isin(['JH'])]"
   ]
  },
  {
   "cell_type": "code",
   "execution_count": null,
   "metadata": {},
   "outputs": [],
   "source": [
    "adata_jh = ad.read('adata_jh_rowdata.h5ad')\n",
    "adata_du = ad.read('adata_du_rowdata.h5ad')\n",
    "adata_awb = ad.read('adata_awb_rowdata.h5ad')\n",
    "\n",
    "adata_combined = ad.concat([adata_jh, adata_du, adata_awb], label='sample', keys=['JH', 'DU', 'AWB'])"
   ]
  },
  {
   "cell_type": "code",
   "execution_count": null,
   "metadata": {},
   "outputs": [],
   "source": [
    "common_cells = set(adata_combined.obs_names) & set(adata.obs_names)\n",
    "common_genes = set(adata_combined.var_names) & set(adata.var_names)\n",
    "adata_combined = adata_combined[adata_combined.obs_names.isin(common_cells), :]\n",
    "adata = adata[adata.obs_names.isin(common_cells), :]\n",
    "adata_combined = adata_combined[: ,adata_combined.var_names.isin(common_genes)]\n",
    "adata = adata[:, adata.var_names.isin(common_genes)]"
   ]
  },
  {
   "cell_type": "code",
   "execution_count": 373,
   "metadata": {},
   "outputs": [],
   "source": [
    "adata.layers['counts'] = adata_combined.X\n",
    "pdata = dc.get_pseudobulk(\n",
    "    adata,\n",
    "    sample_col='BREED',\n",
    "    groups_col=None,\n",
    "    layer='counts',\n",
    "    mode='sum',\n",
    "    min_cells=10,\n",
    "    min_counts=1000\n",
    ")"
   ]
  },
  {
   "cell_type": "code",
   "execution_count": 374,
   "metadata": {},
   "outputs": [],
   "source": [
    "list = pdata.T.to_df()\n",
    "list.to_csv(\"pseudobulk_raw_counts_jh_downsampling_1.csv\", index=True)"
   ]
  },
  {
   "cell_type": "code",
   "execution_count": 375,
   "metadata": {},
   "outputs": [],
   "source": [
    "concat.layers['counts'] = concat.X"
   ]
  },
  {
   "cell_type": "code",
   "execution_count": 376,
   "metadata": {},
   "outputs": [],
   "source": [
    "pdata = dc.get_pseudobulk(\n",
    "    concat,\n",
    "    sample_col='sample',\n",
    "    groups_col=None,\n",
    "    layer='counts',\n",
    "    mode='sum',\n",
    "    min_cells=10,\n",
    "    min_counts=1000\n",
    ")"
   ]
  },
  {
   "cell_type": "code",
   "execution_count": 377,
   "metadata": {},
   "outputs": [],
   "source": [
    "list = pdata.T.to_df()\n",
    "list.to_csv(\"pseudobulk_counts_jh_downsampling_1.csv\", index=True)"
   ]
  },
  {
   "cell_type": "markdown",
   "metadata": {},
   "source": [
    "### correlation coefficient"
   ]
  },
  {
   "cell_type": "code",
   "execution_count": null,
   "metadata": {},
   "outputs": [
    {
     "name": "stdout",
     "output_type": "stream",
     "text": [
      "          JH\n",
      "A1CF    38.0\n",
      "A4GALT  14.0\n",
      "A4GNT    3.0\n",
      "AAAS    51.0\n",
      "AACS    47.0\n",
      "          JH\n",
      "A1CF    42.0\n",
      "A2ML1    1.0\n",
      "A4GALT  22.0\n",
      "A4GNT    3.0\n",
      "AAAS    70.0\n",
      "Pearson Correlation: 0.9999959456488959\n",
      "P-value: 0.0\n"
     ]
    }
   ],
   "source": [
    "import pandas as pd\n",
    "from scipy.stats import pearsonr\n",
    "\n",
    "jh_raw_counts = pd.read_csv('pseudobulk_counts_jh_downsampling_1.csv', index_col=0)\n",
    "jh_counts = pd.read_csv('pseudobulk_raw_counts_jh_downsampling_1.csv', index_col=0)\n",
    "\n",
    "print(jh_raw_counts.head())\n",
    "print(jh_counts.head())\n",
    "\n",
    "common_genes = jh_raw_counts.index.intersection(jh_counts.index)\n",
    "\n",
    "jh_raw_counts_subset = jh_raw_counts.loc[common_genes]\n",
    "jh_counts_subset = jh_counts.loc[common_genes]\n",
    "\n",
    "correlation, p_value = pearsonr(jh_raw_counts_subset['JH'], jh_counts_subset['JH'])\n",
    "\n",
    "print(f'Pearson Correlation: {correlation}')\n",
    "print(f'P-value: {p_value}')\n"
   ]
  }
 ],
 "metadata": {
  "kernelspec": {
   "display_name": "labBase",
   "language": "python",
   "name": "python3"
  },
  "language_info": {
   "codemirror_mode": {
    "name": "ipython",
    "version": 3
   },
   "file_extension": ".py",
   "mimetype": "text/x-python",
   "name": "python",
   "nbconvert_exporter": "python",
   "pygments_lexer": "ipython3",
   "version": "3.8.13"
  },
  "orig_nbformat": 4
 },
 "nbformat": 4,
 "nbformat_minor": 2
}
